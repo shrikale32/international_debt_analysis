{
 "cells": [
  {
   "cell_type": "markdown",
   "metadata": {
    "dc": {
     "key": "4"
    },
    "deletable": false,
    "editable": false,
    "run_control": {
     "frozen": true
    },
    "tags": [
     "context"
    ]
   },
   "source": [
    "## 1. The World Bank's international debt data\n",
    "<p>It's not that we humans only take debts to manage our necessities. A country may also take debt to manage its economy. For example, infrastructure spending is one costly ingredient required for a country's citizens to lead comfortable lives. <a href=\"https://www.worldbank.org\">The World Bank</a> is the organization that provides debt to countries.</p>\n",
    "<p>This notebook contains analysis on international debt data collected by The World Bank. The dataset contains information about the amount of debt (in USD) owed by developing countries across several categories. \n",
    "\n",
    "<p> The analysis answers the following questions</p>\n",
    "<ul>\n",
    "<li>What is the total amount of debt that is owed by the countries listed in the dataset?</li>\n",
    "<li>Which country owns the maximum amount of debt and what does that amount look like?</li>\n",
    "<li>What is the average amount of debt owed by countries across different debt indicators?</li>\n",
    "</ul>\n",
    "<p><img src=\"https://assets.datacamp.com/production/project_754/img/image.jpg\" alt></p>"
   ]
  },
  {
   "cell_type": "markdown",
   "metadata": {},
   "source": [
    "The internation_debt table contains the data on which I have performed this analysis. The first query reveals all the columns in the dataset."
   ]
  },
  {
   "cell_type": "code",
   "execution_count": 2,
   "metadata": {
    "dc": {
     "key": "4"
    },
    "tags": [
     "sample_code"
    ]
   },
   "outputs": [
    {
     "name": "stdout",
     "output_type": "stream",
     "text": [
      "10 rows affected.\n"
     ]
    },
    {
     "data": {
      "text/html": [
       "<table>\n",
       "    <tr>\n",
       "        <th>country_name</th>\n",
       "        <th>country_code</th>\n",
       "        <th>indicator_name</th>\n",
       "        <th>indicator_code</th>\n",
       "        <th>debt</th>\n",
       "    </tr>\n",
       "    <tr>\n",
       "        <td>Afghanistan</td>\n",
       "        <td>AFG</td>\n",
       "        <td>Disbursements on external debt, long-term (DIS, current US$)</td>\n",
       "        <td>DT.DIS.DLXF.CD</td>\n",
       "        <td>72894453.700000003</td>\n",
       "    </tr>\n",
       "    <tr>\n",
       "        <td>Afghanistan</td>\n",
       "        <td>AFG</td>\n",
       "        <td>Interest payments on external debt, long-term (INT, current US$)</td>\n",
       "        <td>DT.INT.DLXF.CD</td>\n",
       "        <td>53239440.100000001</td>\n",
       "    </tr>\n",
       "    <tr>\n",
       "        <td>Afghanistan</td>\n",
       "        <td>AFG</td>\n",
       "        <td>PPG, bilateral (AMT, current US$)</td>\n",
       "        <td>DT.AMT.BLAT.CD</td>\n",
       "        <td>61739336.899999999</td>\n",
       "    </tr>\n",
       "    <tr>\n",
       "        <td>Afghanistan</td>\n",
       "        <td>AFG</td>\n",
       "        <td>PPG, bilateral (DIS, current US$)</td>\n",
       "        <td>DT.DIS.BLAT.CD</td>\n",
       "        <td>49114729.399999999</td>\n",
       "    </tr>\n",
       "    <tr>\n",
       "        <td>Afghanistan</td>\n",
       "        <td>AFG</td>\n",
       "        <td>PPG, bilateral (INT, current US$)</td>\n",
       "        <td>DT.INT.BLAT.CD</td>\n",
       "        <td>39903620.100000001</td>\n",
       "    </tr>\n",
       "    <tr>\n",
       "        <td>Afghanistan</td>\n",
       "        <td>AFG</td>\n",
       "        <td>PPG, multilateral (AMT, current US$)</td>\n",
       "        <td>DT.AMT.MLAT.CD</td>\n",
       "        <td>39107845</td>\n",
       "    </tr>\n",
       "    <tr>\n",
       "        <td>Afghanistan</td>\n",
       "        <td>AFG</td>\n",
       "        <td>PPG, multilateral (DIS, current US$)</td>\n",
       "        <td>DT.DIS.MLAT.CD</td>\n",
       "        <td>23779724.300000001</td>\n",
       "    </tr>\n",
       "    <tr>\n",
       "        <td>Afghanistan</td>\n",
       "        <td>AFG</td>\n",
       "        <td>PPG, multilateral (INT, current US$)</td>\n",
       "        <td>DT.INT.MLAT.CD</td>\n",
       "        <td>13335820</td>\n",
       "    </tr>\n",
       "    <tr>\n",
       "        <td>Afghanistan</td>\n",
       "        <td>AFG</td>\n",
       "        <td>PPG, official creditors (AMT, current US$)</td>\n",
       "        <td>DT.AMT.OFFT.CD</td>\n",
       "        <td>100847181.900000006</td>\n",
       "    </tr>\n",
       "    <tr>\n",
       "        <td>Afghanistan</td>\n",
       "        <td>AFG</td>\n",
       "        <td>PPG, official creditors (DIS, current US$)</td>\n",
       "        <td>DT.DIS.OFFT.CD</td>\n",
       "        <td>72894453.700000003</td>\n",
       "    </tr>\n",
       "</table>"
      ],
      "text/plain": [
       "[('Afghanistan', 'AFG', 'Disbursements on external debt, long-term (DIS, current US$)', 'DT.DIS.DLXF.CD', Decimal('72894453.700000003')),\n",
       " ('Afghanistan', 'AFG', 'Interest payments on external debt, long-term (INT, current US$)', 'DT.INT.DLXF.CD', Decimal('53239440.100000001')),\n",
       " ('Afghanistan', 'AFG', 'PPG, bilateral (AMT, current US$)', 'DT.AMT.BLAT.CD', Decimal('61739336.899999999')),\n",
       " ('Afghanistan', 'AFG', 'PPG, bilateral (DIS, current US$)', 'DT.DIS.BLAT.CD', Decimal('49114729.399999999')),\n",
       " ('Afghanistan', 'AFG', 'PPG, bilateral (INT, current US$)', 'DT.INT.BLAT.CD', Decimal('39903620.100000001')),\n",
       " ('Afghanistan', 'AFG', 'PPG, multilateral (AMT, current US$)', 'DT.AMT.MLAT.CD', Decimal('39107845')),\n",
       " ('Afghanistan', 'AFG', 'PPG, multilateral (DIS, current US$)', 'DT.DIS.MLAT.CD', Decimal('23779724.300000001')),\n",
       " ('Afghanistan', 'AFG', 'PPG, multilateral (INT, current US$)', 'DT.INT.MLAT.CD', Decimal('13335820')),\n",
       " ('Afghanistan', 'AFG', 'PPG, official creditors (AMT, current US$)', 'DT.AMT.OFFT.CD', Decimal('100847181.900000006')),\n",
       " ('Afghanistan', 'AFG', 'PPG, official creditors (DIS, current US$)', 'DT.DIS.OFFT.CD', Decimal('72894453.700000003'))]"
      ]
     },
     "execution_count": 2,
     "metadata": {},
     "output_type": "execute_result"
    }
   ],
   "source": [
    "%%sql\n",
    "postgresql:///international_debt\n",
    "    \n",
    "SELECT \n",
    "    * \n",
    "FROM \n",
    "    international_debt\n",
    "LIMIT\n",
    "    10"
   ]
  },
  {
   "cell_type": "markdown",
   "metadata": {
    "dc": {
     "key": "12"
    },
    "deletable": false,
    "editable": false,
    "run_control": {
     "frozen": true
    },
    "tags": [
     "context"
    ]
   },
   "source": [
    "## 2. Finding the number of distinct countries\n",
    "<p>From the first ten rows, we can see the amount of debt owed by <em>Afghanistan</em> in the different debt indicators. But we do not know the number of different countries we have on the table. There are repetitions in the country names because a country is most likely to have debt in more than one debt indicator. </p>\n",
    "<p>Without a count of unique countries, we will not be able to perform our statistical analyses holistically. </p>\n",
    "<p>Next, we will extract the number of unique countries present in the table. </p>"
   ]
  },
  {
   "cell_type": "code",
   "execution_count": 4,
   "metadata": {
    "dc": {
     "key": "12"
    },
    "tags": [
     "sample_code"
    ]
   },
   "outputs": [
    {
     "name": "stdout",
     "output_type": "stream",
     "text": [
      " * postgresql:///international_debt\n",
      "1 rows affected.\n"
     ]
    },
    {
     "data": {
      "text/html": [
       "<table>\n",
       "    <tr>\n",
       "        <th>total_distinct_countries</th>\n",
       "    </tr>\n",
       "    <tr>\n",
       "        <td>124</td>\n",
       "    </tr>\n",
       "</table>"
      ],
      "text/plain": [
       "[(124,)]"
      ]
     },
     "execution_count": 4,
     "metadata": {},
     "output_type": "execute_result"
    }
   ],
   "source": [
    "%%sql\n",
    "SELECT \n",
    "    COUNT(DISTINCT(country_name)) AS total_distinct_countries\n",
    "FROM international_debt;"
   ]
  },
  {
   "cell_type": "markdown",
   "metadata": {
    "dc": {
     "key": "12"
    }
   },
   "source": [
    "The query above shows that the total number of distinct countries in the dataset are <b>124</b>.\n",
    "Next let's look at the list of these countries ordered alphabetically"
   ]
  },
  {
   "cell_type": "code",
   "execution_count": 15,
   "metadata": {
    "dc": {
     "key": "12"
    }
   },
   "outputs": [
    {
     "name": "stdout",
     "output_type": "stream",
     "text": [
      " * postgresql:///international_debt\n",
      "124 rows affected.\n"
     ]
    },
    {
     "data": {
      "text/html": [
       "<table>\n",
       "    <tr>\n",
       "        <th>distinct_countries</th>\n",
       "    </tr>\n",
       "    <tr>\n",
       "        <td>Afghanistan</td>\n",
       "    </tr>\n",
       "    <tr>\n",
       "        <td>Albania</td>\n",
       "    </tr>\n",
       "    <tr>\n",
       "        <td>Algeria</td>\n",
       "    </tr>\n",
       "    <tr>\n",
       "        <td>Angola</td>\n",
       "    </tr>\n",
       "    <tr>\n",
       "        <td>Armenia</td>\n",
       "    </tr>\n",
       "    <tr>\n",
       "        <td>Azerbaijan</td>\n",
       "    </tr>\n",
       "    <tr>\n",
       "        <td>Bangladesh</td>\n",
       "    </tr>\n",
       "    <tr>\n",
       "        <td>Belarus</td>\n",
       "    </tr>\n",
       "    <tr>\n",
       "        <td>Belize</td>\n",
       "    </tr>\n",
       "    <tr>\n",
       "        <td>Benin</td>\n",
       "    </tr>\n",
       "    <tr>\n",
       "        <td>Bhutan</td>\n",
       "    </tr>\n",
       "    <tr>\n",
       "        <td>Bolivia</td>\n",
       "    </tr>\n",
       "    <tr>\n",
       "        <td>Bosnia and Herzegovina</td>\n",
       "    </tr>\n",
       "    <tr>\n",
       "        <td>Botswana</td>\n",
       "    </tr>\n",
       "    <tr>\n",
       "        <td>Brazil</td>\n",
       "    </tr>\n",
       "    <tr>\n",
       "        <td>Bulgaria</td>\n",
       "    </tr>\n",
       "    <tr>\n",
       "        <td>Burkina Faso</td>\n",
       "    </tr>\n",
       "    <tr>\n",
       "        <td>Burundi</td>\n",
       "    </tr>\n",
       "    <tr>\n",
       "        <td>Cabo Verde</td>\n",
       "    </tr>\n",
       "    <tr>\n",
       "        <td>Cambodia</td>\n",
       "    </tr>\n",
       "    <tr>\n",
       "        <td>Cameroon</td>\n",
       "    </tr>\n",
       "    <tr>\n",
       "        <td>Central African Republic</td>\n",
       "    </tr>\n",
       "    <tr>\n",
       "        <td>Chad</td>\n",
       "    </tr>\n",
       "    <tr>\n",
       "        <td>China</td>\n",
       "    </tr>\n",
       "    <tr>\n",
       "        <td>Colombia</td>\n",
       "    </tr>\n",
       "    <tr>\n",
       "        <td>Comoros</td>\n",
       "    </tr>\n",
       "    <tr>\n",
       "        <td>Congo, Dem. Rep.</td>\n",
       "    </tr>\n",
       "    <tr>\n",
       "        <td>Congo, Rep.</td>\n",
       "    </tr>\n",
       "    <tr>\n",
       "        <td>Costa Rica</td>\n",
       "    </tr>\n",
       "    <tr>\n",
       "        <td>Cote d&#x27;Ivoire</td>\n",
       "    </tr>\n",
       "    <tr>\n",
       "        <td>Djibouti</td>\n",
       "    </tr>\n",
       "    <tr>\n",
       "        <td>Dominica</td>\n",
       "    </tr>\n",
       "    <tr>\n",
       "        <td>Dominican Republic</td>\n",
       "    </tr>\n",
       "    <tr>\n",
       "        <td>Ecuador</td>\n",
       "    </tr>\n",
       "    <tr>\n",
       "        <td>Egypt, Arab Rep.</td>\n",
       "    </tr>\n",
       "    <tr>\n",
       "        <td>El Salvador</td>\n",
       "    </tr>\n",
       "    <tr>\n",
       "        <td>Eritrea</td>\n",
       "    </tr>\n",
       "    <tr>\n",
       "        <td>Eswatini</td>\n",
       "    </tr>\n",
       "    <tr>\n",
       "        <td>Ethiopia</td>\n",
       "    </tr>\n",
       "    <tr>\n",
       "        <td>Fiji</td>\n",
       "    </tr>\n",
       "    <tr>\n",
       "        <td>Gabon</td>\n",
       "    </tr>\n",
       "    <tr>\n",
       "        <td>Gambia, The</td>\n",
       "    </tr>\n",
       "    <tr>\n",
       "        <td>Georgia</td>\n",
       "    </tr>\n",
       "    <tr>\n",
       "        <td>Ghana</td>\n",
       "    </tr>\n",
       "    <tr>\n",
       "        <td>Grenada</td>\n",
       "    </tr>\n",
       "    <tr>\n",
       "        <td>Guatemala</td>\n",
       "    </tr>\n",
       "    <tr>\n",
       "        <td>Guinea</td>\n",
       "    </tr>\n",
       "    <tr>\n",
       "        <td>Guinea-Bissau</td>\n",
       "    </tr>\n",
       "    <tr>\n",
       "        <td>Guyana</td>\n",
       "    </tr>\n",
       "    <tr>\n",
       "        <td>Haiti</td>\n",
       "    </tr>\n",
       "    <tr>\n",
       "        <td>Honduras</td>\n",
       "    </tr>\n",
       "    <tr>\n",
       "        <td>IDA only</td>\n",
       "    </tr>\n",
       "    <tr>\n",
       "        <td>India</td>\n",
       "    </tr>\n",
       "    <tr>\n",
       "        <td>Indonesia</td>\n",
       "    </tr>\n",
       "    <tr>\n",
       "        <td>Iran, Islamic Rep.</td>\n",
       "    </tr>\n",
       "    <tr>\n",
       "        <td>Jamaica</td>\n",
       "    </tr>\n",
       "    <tr>\n",
       "        <td>Jordan</td>\n",
       "    </tr>\n",
       "    <tr>\n",
       "        <td>Kazakhstan</td>\n",
       "    </tr>\n",
       "    <tr>\n",
       "        <td>Kenya</td>\n",
       "    </tr>\n",
       "    <tr>\n",
       "        <td>Kosovo</td>\n",
       "    </tr>\n",
       "    <tr>\n",
       "        <td>Kyrgyz Republic</td>\n",
       "    </tr>\n",
       "    <tr>\n",
       "        <td>Lao PDR</td>\n",
       "    </tr>\n",
       "    <tr>\n",
       "        <td>Least developed countries: UN classification</td>\n",
       "    </tr>\n",
       "    <tr>\n",
       "        <td>Lebanon</td>\n",
       "    </tr>\n",
       "    <tr>\n",
       "        <td>Lesotho</td>\n",
       "    </tr>\n",
       "    <tr>\n",
       "        <td>Liberia</td>\n",
       "    </tr>\n",
       "    <tr>\n",
       "        <td>Macedonia, FYR</td>\n",
       "    </tr>\n",
       "    <tr>\n",
       "        <td>Madagascar</td>\n",
       "    </tr>\n",
       "    <tr>\n",
       "        <td>Malawi</td>\n",
       "    </tr>\n",
       "    <tr>\n",
       "        <td>Maldives</td>\n",
       "    </tr>\n",
       "    <tr>\n",
       "        <td>Mali</td>\n",
       "    </tr>\n",
       "    <tr>\n",
       "        <td>Mauritania</td>\n",
       "    </tr>\n",
       "    <tr>\n",
       "        <td>Mauritius</td>\n",
       "    </tr>\n",
       "    <tr>\n",
       "        <td>Mexico</td>\n",
       "    </tr>\n",
       "    <tr>\n",
       "        <td>Moldova</td>\n",
       "    </tr>\n",
       "    <tr>\n",
       "        <td>Mongolia</td>\n",
       "    </tr>\n",
       "    <tr>\n",
       "        <td>Montenegro</td>\n",
       "    </tr>\n",
       "    <tr>\n",
       "        <td>Morocco</td>\n",
       "    </tr>\n",
       "    <tr>\n",
       "        <td>Mozambique</td>\n",
       "    </tr>\n",
       "    <tr>\n",
       "        <td>Myanmar</td>\n",
       "    </tr>\n",
       "    <tr>\n",
       "        <td>Nepal</td>\n",
       "    </tr>\n",
       "    <tr>\n",
       "        <td>Nicaragua</td>\n",
       "    </tr>\n",
       "    <tr>\n",
       "        <td>Niger</td>\n",
       "    </tr>\n",
       "    <tr>\n",
       "        <td>Nigeria</td>\n",
       "    </tr>\n",
       "    <tr>\n",
       "        <td>Pakistan</td>\n",
       "    </tr>\n",
       "    <tr>\n",
       "        <td>Papua New Guinea</td>\n",
       "    </tr>\n",
       "    <tr>\n",
       "        <td>Paraguay</td>\n",
       "    </tr>\n",
       "    <tr>\n",
       "        <td>Peru</td>\n",
       "    </tr>\n",
       "    <tr>\n",
       "        <td>Philippines</td>\n",
       "    </tr>\n",
       "    <tr>\n",
       "        <td>Romania</td>\n",
       "    </tr>\n",
       "    <tr>\n",
       "        <td>Russian Federation</td>\n",
       "    </tr>\n",
       "    <tr>\n",
       "        <td>Rwanda</td>\n",
       "    </tr>\n",
       "    <tr>\n",
       "        <td>Samoa</td>\n",
       "    </tr>\n",
       "    <tr>\n",
       "        <td>Sao Tome and Principe</td>\n",
       "    </tr>\n",
       "    <tr>\n",
       "        <td>Senegal</td>\n",
       "    </tr>\n",
       "    <tr>\n",
       "        <td>Serbia</td>\n",
       "    </tr>\n",
       "    <tr>\n",
       "        <td>Sierra Leone</td>\n",
       "    </tr>\n",
       "    <tr>\n",
       "        <td>Solomon Islands</td>\n",
       "    </tr>\n",
       "    <tr>\n",
       "        <td>Somalia</td>\n",
       "    </tr>\n",
       "    <tr>\n",
       "        <td>South Africa</td>\n",
       "    </tr>\n",
       "    <tr>\n",
       "        <td>South Asia</td>\n",
       "    </tr>\n",
       "    <tr>\n",
       "        <td>Sri Lanka</td>\n",
       "    </tr>\n",
       "    <tr>\n",
       "        <td>St. Lucia</td>\n",
       "    </tr>\n",
       "    <tr>\n",
       "        <td>St. Vincent and the Grenadines</td>\n",
       "    </tr>\n",
       "    <tr>\n",
       "        <td>Sudan</td>\n",
       "    </tr>\n",
       "    <tr>\n",
       "        <td>Syrian Arab Republic</td>\n",
       "    </tr>\n",
       "    <tr>\n",
       "        <td>Tajikistan</td>\n",
       "    </tr>\n",
       "    <tr>\n",
       "        <td>Tanzania</td>\n",
       "    </tr>\n",
       "    <tr>\n",
       "        <td>Thailand</td>\n",
       "    </tr>\n",
       "    <tr>\n",
       "        <td>Timor-Leste</td>\n",
       "    </tr>\n",
       "    <tr>\n",
       "        <td>Togo</td>\n",
       "    </tr>\n",
       "    <tr>\n",
       "        <td>Tonga</td>\n",
       "    </tr>\n",
       "    <tr>\n",
       "        <td>Tunisia</td>\n",
       "    </tr>\n",
       "    <tr>\n",
       "        <td>Turkey</td>\n",
       "    </tr>\n",
       "    <tr>\n",
       "        <td>Turkmenistan</td>\n",
       "    </tr>\n",
       "    <tr>\n",
       "        <td>Uganda</td>\n",
       "    </tr>\n",
       "    <tr>\n",
       "        <td>Ukraine</td>\n",
       "    </tr>\n",
       "    <tr>\n",
       "        <td>Uzbekistan</td>\n",
       "    </tr>\n",
       "    <tr>\n",
       "        <td>Vanuatu</td>\n",
       "    </tr>\n",
       "    <tr>\n",
       "        <td>Venezuela, RB</td>\n",
       "    </tr>\n",
       "    <tr>\n",
       "        <td>Vietnam</td>\n",
       "    </tr>\n",
       "    <tr>\n",
       "        <td>Yemen, Rep.</td>\n",
       "    </tr>\n",
       "    <tr>\n",
       "        <td>Zambia</td>\n",
       "    </tr>\n",
       "    <tr>\n",
       "        <td>Zimbabwe</td>\n",
       "    </tr>\n",
       "</table>"
      ],
      "text/plain": [
       "[('Afghanistan',),\n",
       " ('Albania',),\n",
       " ('Algeria',),\n",
       " ('Angola',),\n",
       " ('Armenia',),\n",
       " ('Azerbaijan',),\n",
       " ('Bangladesh',),\n",
       " ('Belarus',),\n",
       " ('Belize',),\n",
       " ('Benin',),\n",
       " ('Bhutan',),\n",
       " ('Bolivia',),\n",
       " ('Bosnia and Herzegovina',),\n",
       " ('Botswana',),\n",
       " ('Brazil',),\n",
       " ('Bulgaria',),\n",
       " ('Burkina Faso',),\n",
       " ('Burundi',),\n",
       " ('Cabo Verde',),\n",
       " ('Cambodia',),\n",
       " ('Cameroon',),\n",
       " ('Central African Republic',),\n",
       " ('Chad',),\n",
       " ('China',),\n",
       " ('Colombia',),\n",
       " ('Comoros',),\n",
       " ('Congo, Dem. Rep.',),\n",
       " ('Congo, Rep.',),\n",
       " ('Costa Rica',),\n",
       " (\"Cote d'Ivoire\",),\n",
       " ('Djibouti',),\n",
       " ('Dominica',),\n",
       " ('Dominican Republic',),\n",
       " ('Ecuador',),\n",
       " ('Egypt, Arab Rep.',),\n",
       " ('El Salvador',),\n",
       " ('Eritrea',),\n",
       " ('Eswatini',),\n",
       " ('Ethiopia',),\n",
       " ('Fiji',),\n",
       " ('Gabon',),\n",
       " ('Gambia, The',),\n",
       " ('Georgia',),\n",
       " ('Ghana',),\n",
       " ('Grenada',),\n",
       " ('Guatemala',),\n",
       " ('Guinea',),\n",
       " ('Guinea-Bissau',),\n",
       " ('Guyana',),\n",
       " ('Haiti',),\n",
       " ('Honduras',),\n",
       " ('IDA only',),\n",
       " ('India',),\n",
       " ('Indonesia',),\n",
       " ('Iran, Islamic Rep.',),\n",
       " ('Jamaica',),\n",
       " ('Jordan',),\n",
       " ('Kazakhstan',),\n",
       " ('Kenya',),\n",
       " ('Kosovo',),\n",
       " ('Kyrgyz Republic',),\n",
       " ('Lao PDR',),\n",
       " ('Least developed countries: UN classification',),\n",
       " ('Lebanon',),\n",
       " ('Lesotho',),\n",
       " ('Liberia',),\n",
       " ('Macedonia, FYR',),\n",
       " ('Madagascar',),\n",
       " ('Malawi',),\n",
       " ('Maldives',),\n",
       " ('Mali',),\n",
       " ('Mauritania',),\n",
       " ('Mauritius',),\n",
       " ('Mexico',),\n",
       " ('Moldova',),\n",
       " ('Mongolia',),\n",
       " ('Montenegro',),\n",
       " ('Morocco',),\n",
       " ('Mozambique',),\n",
       " ('Myanmar',),\n",
       " ('Nepal',),\n",
       " ('Nicaragua',),\n",
       " ('Niger',),\n",
       " ('Nigeria',),\n",
       " ('Pakistan',),\n",
       " ('Papua New Guinea',),\n",
       " ('Paraguay',),\n",
       " ('Peru',),\n",
       " ('Philippines',),\n",
       " ('Romania',),\n",
       " ('Russian Federation',),\n",
       " ('Rwanda',),\n",
       " ('Samoa',),\n",
       " ('Sao Tome and Principe',),\n",
       " ('Senegal',),\n",
       " ('Serbia',),\n",
       " ('Sierra Leone',),\n",
       " ('Solomon Islands',),\n",
       " ('Somalia',),\n",
       " ('South Africa',),\n",
       " ('South Asia',),\n",
       " ('Sri Lanka',),\n",
       " ('St. Lucia',),\n",
       " ('St. Vincent and the Grenadines',),\n",
       " ('Sudan',),\n",
       " ('Syrian Arab Republic',),\n",
       " ('Tajikistan',),\n",
       " ('Tanzania',),\n",
       " ('Thailand',),\n",
       " ('Timor-Leste',),\n",
       " ('Togo',),\n",
       " ('Tonga',),\n",
       " ('Tunisia',),\n",
       " ('Turkey',),\n",
       " ('Turkmenistan',),\n",
       " ('Uganda',),\n",
       " ('Ukraine',),\n",
       " ('Uzbekistan',),\n",
       " ('Vanuatu',),\n",
       " ('Venezuela, RB',),\n",
       " ('Vietnam',),\n",
       " ('Yemen, Rep.',),\n",
       " ('Zambia',),\n",
       " ('Zimbabwe',)]"
      ]
     },
     "execution_count": 15,
     "metadata": {},
     "output_type": "execute_result"
    }
   ],
   "source": [
    "%%sql\n",
    "SELECT \n",
    "    DISTINCT(country_name) AS distinct_countries\n",
    "FROM international_debt\n",
    "ORDER BY distinct_countries;"
   ]
  },
  {
   "cell_type": "markdown",
   "metadata": {
    "dc": {
     "key": "20"
    },
    "deletable": false,
    "editable": false,
    "run_control": {
     "frozen": true
    },
    "tags": [
     "context"
    ]
   },
   "source": [
    "## 3. Finding out the distinct debt indicators\n",
    "<p> There is a column called <code>indicator_name</code> that briefly specifies the purpose of taking the debt. Just beside that column, there is another column called <code>indicator_code</code> which symbolizes the category of these debts. Knowing about these various debt indicators will help us to understand the areas in which a country can possibly be indebted to. </p>"
   ]
  },
  {
   "cell_type": "code",
   "execution_count": 10,
   "metadata": {
    "dc": {
     "key": "20"
    },
    "tags": [
     "sample_code"
    ]
   },
   "outputs": [
    {
     "name": "stdout",
     "output_type": "stream",
     "text": [
      " * postgresql:///international_debt\n",
      "25 rows affected.\n"
     ]
    },
    {
     "data": {
      "text/html": [
       "<table>\n",
       "    <tr>\n",
       "        <th>distinct_debt_indicators</th>\n",
       "    </tr>\n",
       "    <tr>\n",
       "        <td>DT.AMT.BLAT.CD</td>\n",
       "    </tr>\n",
       "    <tr>\n",
       "        <td>DT.AMT.DLXF.CD</td>\n",
       "    </tr>\n",
       "    <tr>\n",
       "        <td>DT.AMT.DPNG.CD</td>\n",
       "    </tr>\n",
       "    <tr>\n",
       "        <td>DT.AMT.MLAT.CD</td>\n",
       "    </tr>\n",
       "    <tr>\n",
       "        <td>DT.AMT.OFFT.CD</td>\n",
       "    </tr>\n",
       "    <tr>\n",
       "        <td>DT.AMT.PBND.CD</td>\n",
       "    </tr>\n",
       "    <tr>\n",
       "        <td>DT.AMT.PCBK.CD</td>\n",
       "    </tr>\n",
       "    <tr>\n",
       "        <td>DT.AMT.PROP.CD</td>\n",
       "    </tr>\n",
       "    <tr>\n",
       "        <td>DT.AMT.PRVT.CD</td>\n",
       "    </tr>\n",
       "    <tr>\n",
       "        <td>DT.DIS.BLAT.CD</td>\n",
       "    </tr>\n",
       "    <tr>\n",
       "        <td>DT.DIS.DLXF.CD</td>\n",
       "    </tr>\n",
       "    <tr>\n",
       "        <td>DT.DIS.MLAT.CD</td>\n",
       "    </tr>\n",
       "    <tr>\n",
       "        <td>DT.DIS.OFFT.CD</td>\n",
       "    </tr>\n",
       "    <tr>\n",
       "        <td>DT.DIS.PCBK.CD</td>\n",
       "    </tr>\n",
       "    <tr>\n",
       "        <td>DT.DIS.PROP.CD</td>\n",
       "    </tr>\n",
       "    <tr>\n",
       "        <td>DT.DIS.PRVT.CD</td>\n",
       "    </tr>\n",
       "    <tr>\n",
       "        <td>DT.INT.BLAT.CD</td>\n",
       "    </tr>\n",
       "    <tr>\n",
       "        <td>DT.INT.DLXF.CD</td>\n",
       "    </tr>\n",
       "    <tr>\n",
       "        <td>DT.INT.DPNG.CD</td>\n",
       "    </tr>\n",
       "    <tr>\n",
       "        <td>DT.INT.MLAT.CD</td>\n",
       "    </tr>\n",
       "    <tr>\n",
       "        <td>DT.INT.OFFT.CD</td>\n",
       "    </tr>\n",
       "    <tr>\n",
       "        <td>DT.INT.PBND.CD</td>\n",
       "    </tr>\n",
       "    <tr>\n",
       "        <td>DT.INT.PCBK.CD</td>\n",
       "    </tr>\n",
       "    <tr>\n",
       "        <td>DT.INT.PROP.CD</td>\n",
       "    </tr>\n",
       "    <tr>\n",
       "        <td>DT.INT.PRVT.CD</td>\n",
       "    </tr>\n",
       "</table>"
      ],
      "text/plain": [
       "[('DT.AMT.BLAT.CD',),\n",
       " ('DT.AMT.DLXF.CD',),\n",
       " ('DT.AMT.DPNG.CD',),\n",
       " ('DT.AMT.MLAT.CD',),\n",
       " ('DT.AMT.OFFT.CD',),\n",
       " ('DT.AMT.PBND.CD',),\n",
       " ('DT.AMT.PCBK.CD',),\n",
       " ('DT.AMT.PROP.CD',),\n",
       " ('DT.AMT.PRVT.CD',),\n",
       " ('DT.DIS.BLAT.CD',),\n",
       " ('DT.DIS.DLXF.CD',),\n",
       " ('DT.DIS.MLAT.CD',),\n",
       " ('DT.DIS.OFFT.CD',),\n",
       " ('DT.DIS.PCBK.CD',),\n",
       " ('DT.DIS.PROP.CD',),\n",
       " ('DT.DIS.PRVT.CD',),\n",
       " ('DT.INT.BLAT.CD',),\n",
       " ('DT.INT.DLXF.CD',),\n",
       " ('DT.INT.DPNG.CD',),\n",
       " ('DT.INT.MLAT.CD',),\n",
       " ('DT.INT.OFFT.CD',),\n",
       " ('DT.INT.PBND.CD',),\n",
       " ('DT.INT.PCBK.CD',),\n",
       " ('DT.INT.PROP.CD',),\n",
       " ('DT.INT.PRVT.CD',)]"
      ]
     },
     "execution_count": 10,
     "metadata": {},
     "output_type": "execute_result"
    }
   ],
   "source": [
    "%%sql\n",
    "SELECT\n",
    "    DISTINCT(indicator_code) AS distinct_debt_indicators\n",
    "FROM\n",
    "    international_debt\n",
    "ORDER BY\n",
    "    distinct_debt_indicators;"
   ]
  },
  {
   "cell_type": "markdown",
   "metadata": {
    "dc": {
     "key": "28"
    },
    "deletable": false,
    "editable": false,
    "run_control": {
     "frozen": true
    },
    "tags": [
     "context"
    ]
   },
   "source": [
    "## 4. Totaling the amount of debt owed by the countries\n",
    "<p>The financial debt of a particular country represents its economic state. Next, let's look at the global debt situation and find out the total amount of debt (in USD) that is owed by the different countries. This will give us a sense of how the overall economy of the entire world is holding up.</p>"
   ]
  },
  {
   "cell_type": "code",
   "execution_count": 11,
   "metadata": {
    "dc": {
     "key": "28"
    },
    "tags": [
     "sample_code"
    ]
   },
   "outputs": [
    {
     "name": "stdout",
     "output_type": "stream",
     "text": [
      " * postgresql:///international_debt\n",
      "1 rows affected.\n"
     ]
    },
    {
     "data": {
      "text/html": [
       "<table>\n",
       "    <tr>\n",
       "        <th>total_debt</th>\n",
       "    </tr>\n",
       "    <tr>\n",
       "        <td>3079734.49</td>\n",
       "    </tr>\n",
       "</table>"
      ],
      "text/plain": [
       "[(Decimal('3079734.49'),)]"
      ]
     },
     "execution_count": 11,
     "metadata": {},
     "output_type": "execute_result"
    }
   ],
   "source": [
    "%%sql\n",
    "SELECT \n",
    "    ROUND(SUM(debt)/1000000, 2) AS total_debt\n",
    "FROM international_debt;"
   ]
  },
  {
   "cell_type": "markdown",
   "metadata": {
    "dc": {
     "key": "36"
    },
    "deletable": false,
    "editable": false,
    "run_control": {
     "frozen": true
    },
    "tags": [
     "context"
    ]
   },
   "source": [
    "## 5. Country with the highest debt\n",
    "<p>That is more than <em>3 million <strong>million</strong></em> USD, an amount which is really hard for us to fathom. </p>\n",
    "<p>Next let's look at the country that owns the highest amount of debt along with the amount. \n",
    "<strong>Note</strong> that this debt is the sum of different debts owed by a country across several categories. This will help to understand more about the country in terms of its socio-economic scenarios."
   ]
  },
  {
   "cell_type": "code",
   "execution_count": 16,
   "metadata": {
    "dc": {
     "key": "36"
    },
    "tags": [
     "sample_code"
    ]
   },
   "outputs": [
    {
     "name": "stdout",
     "output_type": "stream",
     "text": [
      " * postgresql:///international_debt\n",
      "1 rows affected.\n"
     ]
    },
    {
     "data": {
      "text/html": [
       "<table>\n",
       "    <tr>\n",
       "        <th>country_name</th>\n",
       "        <th>total_debt</th>\n",
       "    </tr>\n",
       "    <tr>\n",
       "        <td>China</td>\n",
       "        <td>285793494734.200001568</td>\n",
       "    </tr>\n",
       "</table>"
      ],
      "text/plain": [
       "[('China', Decimal('285793494734.200001568'))]"
      ]
     },
     "execution_count": 16,
     "metadata": {},
     "output_type": "execute_result"
    }
   ],
   "source": [
    "%%sql\n",
    "SELECT \n",
    "    country_name, \n",
    "    SUM(debt) AS total_debt\n",
    "FROM international_debt\n",
    "GROUP BY country_name\n",
    "ORDER BY total_debt DESC\n",
    "LIMIT 1;"
   ]
  },
  {
   "cell_type": "markdown",
   "metadata": {
    "dc": {
     "key": "36"
    }
   },
   "source": [
    "Next, let's look at the top 10 countries with most amount of debt"
   ]
  },
  {
   "cell_type": "code",
   "execution_count": 17,
   "metadata": {
    "dc": {
     "key": "36"
    }
   },
   "outputs": [
    {
     "name": "stdout",
     "output_type": "stream",
     "text": [
      " * postgresql:///international_debt\n",
      "10 rows affected.\n"
     ]
    },
    {
     "data": {
      "text/html": [
       "<table>\n",
       "    <tr>\n",
       "        <th>country_name</th>\n",
       "        <th>total_debt</th>\n",
       "    </tr>\n",
       "    <tr>\n",
       "        <td>China</td>\n",
       "        <td>285793494734.200001568</td>\n",
       "    </tr>\n",
       "    <tr>\n",
       "        <td>Brazil</td>\n",
       "        <td>280623966140.800007581</td>\n",
       "    </tr>\n",
       "    <tr>\n",
       "        <td>South Asia</td>\n",
       "        <td>247608723990.600003211</td>\n",
       "    </tr>\n",
       "    <tr>\n",
       "        <td>Least developed countries: UN classification</td>\n",
       "        <td>212880992791.900000988</td>\n",
       "    </tr>\n",
       "    <tr>\n",
       "        <td>Russian Federation</td>\n",
       "        <td>191289057259.200001943</td>\n",
       "    </tr>\n",
       "    <tr>\n",
       "        <td>IDA only</td>\n",
       "        <td>179048127207.299999298</td>\n",
       "    </tr>\n",
       "    <tr>\n",
       "        <td>Turkey</td>\n",
       "        <td>151125758035.300003616</td>\n",
       "    </tr>\n",
       "    <tr>\n",
       "        <td>India</td>\n",
       "        <td>133627060958.399997148</td>\n",
       "    </tr>\n",
       "    <tr>\n",
       "        <td>Mexico</td>\n",
       "        <td>124596786217.300001668</td>\n",
       "    </tr>\n",
       "    <tr>\n",
       "        <td>Indonesia</td>\n",
       "        <td>113435696693.499999149</td>\n",
       "    </tr>\n",
       "</table>"
      ],
      "text/plain": [
       "[('China', Decimal('285793494734.200001568')),\n",
       " ('Brazil', Decimal('280623966140.800007581')),\n",
       " ('South Asia', Decimal('247608723990.600003211')),\n",
       " ('Least developed countries: UN classification', Decimal('212880992791.900000988')),\n",
       " ('Russian Federation', Decimal('191289057259.200001943')),\n",
       " ('IDA only', Decimal('179048127207.299999298')),\n",
       " ('Turkey', Decimal('151125758035.300003616')),\n",
       " ('India', Decimal('133627060958.399997148')),\n",
       " ('Mexico', Decimal('124596786217.300001668')),\n",
       " ('Indonesia', Decimal('113435696693.499999149'))]"
      ]
     },
     "execution_count": 17,
     "metadata": {},
     "output_type": "execute_result"
    }
   ],
   "source": [
    "%%sql\n",
    "SELECT \n",
    "    country_name, \n",
    "    SUM(debt) AS total_debt\n",
    "FROM international_debt\n",
    "GROUP BY country_name\n",
    "ORDER BY total_debt DESC\n",
    "LIMIT 10;"
   ]
  },
  {
   "cell_type": "markdown",
   "metadata": {},
   "source": [
    "<p><em>China</em> comes out as the country with highest debt </p> "
   ]
  },
  {
   "cell_type": "markdown",
   "metadata": {
    "dc": {
     "key": "44"
    },
    "deletable": false,
    "editable": false,
    "run_control": {
     "frozen": true
    },
    "tags": [
     "context"
    ]
   },
   "source": [
    "## 6. Average amount of debt across indicators\n",
    "\n",
    "<p> We already have an idea of the different debt indicators in which the countries owe their debts. Next, we find out on an average how much debt a country owes? This will give us a better sense of the distribution of the amount of debt across different indicators.</p>"
   ]
  },
  {
   "cell_type": "code",
   "execution_count": 19,
   "metadata": {
    "dc": {
     "key": "44"
    },
    "tags": [
     "sample_code"
    ]
   },
   "outputs": [
    {
     "name": "stdout",
     "output_type": "stream",
     "text": [
      " * postgresql:///international_debt\n",
      "10 rows affected.\n"
     ]
    },
    {
     "data": {
      "text/html": [
       "<table>\n",
       "    <tr>\n",
       "        <th>debt_indicator</th>\n",
       "        <th>indicator_name</th>\n",
       "        <th>average_debt</th>\n",
       "    </tr>\n",
       "    <tr>\n",
       "        <td>DT.AMT.DLXF.CD</td>\n",
       "        <td>Principal repayments on external debt, long-term (AMT, current US$)</td>\n",
       "        <td>5904868401.499193612</td>\n",
       "    </tr>\n",
       "    <tr>\n",
       "        <td>DT.AMT.DPNG.CD</td>\n",
       "        <td>Principal repayments on external debt, private nonguaranteed (PNG) (AMT, current US$)</td>\n",
       "        <td>5161194333.812658349</td>\n",
       "    </tr>\n",
       "    <tr>\n",
       "        <td>DT.DIS.DLXF.CD</td>\n",
       "        <td>Disbursements on external debt, long-term (DIS, current US$)</td>\n",
       "        <td>2152041216.890243888</td>\n",
       "    </tr>\n",
       "    <tr>\n",
       "        <td>DT.DIS.OFFT.CD</td>\n",
       "        <td>PPG, official creditors (DIS, current US$)</td>\n",
       "        <td>1958983452.859836046</td>\n",
       "    </tr>\n",
       "    <tr>\n",
       "        <td>DT.AMT.PRVT.CD</td>\n",
       "        <td>PPG, private creditors (AMT, current US$)</td>\n",
       "        <td>1803694101.963265321</td>\n",
       "    </tr>\n",
       "    <tr>\n",
       "        <td>DT.INT.DLXF.CD</td>\n",
       "        <td>Interest payments on external debt, long-term (INT, current US$)</td>\n",
       "        <td>1644024067.650806481</td>\n",
       "    </tr>\n",
       "    <tr>\n",
       "        <td>DT.DIS.BLAT.CD</td>\n",
       "        <td>PPG, bilateral (DIS, current US$)</td>\n",
       "        <td>1223139290.398230108</td>\n",
       "    </tr>\n",
       "    <tr>\n",
       "        <td>DT.INT.DPNG.CD</td>\n",
       "        <td>Interest payments on external debt, private nonguaranteed (PNG) (INT, current US$)</td>\n",
       "        <td>1220410844.421518983</td>\n",
       "    </tr>\n",
       "    <tr>\n",
       "        <td>DT.AMT.OFFT.CD</td>\n",
       "        <td>PPG, official creditors (AMT, current US$)</td>\n",
       "        <td>1191187963.083064523</td>\n",
       "    </tr>\n",
       "    <tr>\n",
       "        <td>DT.AMT.PBND.CD</td>\n",
       "        <td>PPG, bonds (AMT, current US$)</td>\n",
       "        <td>1082623947.653623188</td>\n",
       "    </tr>\n",
       "</table>"
      ],
      "text/plain": [
       "[('DT.AMT.DLXF.CD', 'Principal repayments on external debt, long-term (AMT, current US$)', Decimal('5904868401.499193612')),\n",
       " ('DT.AMT.DPNG.CD', 'Principal repayments on external debt, private nonguaranteed (PNG) (AMT, current US$)', Decimal('5161194333.812658349')),\n",
       " ('DT.DIS.DLXF.CD', 'Disbursements on external debt, long-term (DIS, current US$)', Decimal('2152041216.890243888')),\n",
       " ('DT.DIS.OFFT.CD', 'PPG, official creditors (DIS, current US$)', Decimal('1958983452.859836046')),\n",
       " ('DT.AMT.PRVT.CD', 'PPG, private creditors (AMT, current US$)', Decimal('1803694101.963265321')),\n",
       " ('DT.INT.DLXF.CD', 'Interest payments on external debt, long-term (INT, current US$)', Decimal('1644024067.650806481')),\n",
       " ('DT.DIS.BLAT.CD', 'PPG, bilateral (DIS, current US$)', Decimal('1223139290.398230108')),\n",
       " ('DT.INT.DPNG.CD', 'Interest payments on external debt, private nonguaranteed (PNG) (INT, current US$)', Decimal('1220410844.421518983')),\n",
       " ('DT.AMT.OFFT.CD', 'PPG, official creditors (AMT, current US$)', Decimal('1191187963.083064523')),\n",
       " ('DT.AMT.PBND.CD', 'PPG, bonds (AMT, current US$)', Decimal('1082623947.653623188'))]"
      ]
     },
     "execution_count": 19,
     "metadata": {},
     "output_type": "execute_result"
    }
   ],
   "source": [
    "%%sql\n",
    "SELECT \n",
    "    indicator_code AS debt_indicator,\n",
    "    indicator_name,\n",
    "    AVG(debt) as average_debt\n",
    "FROM international_debt\n",
    "GROUP BY debt_indicator, indicator_name\n",
    "ORDER BY average_debt DESC\n",
    "LIMIT 10;"
   ]
  },
  {
   "cell_type": "markdown",
   "metadata": {},
   "source": [
    "<p>We can see that the indicator <code>DT.AMT.DLXF.CD</code> tops the chart of average debt. This category includes repayment of long term debts. Countries take on long-term debt to acquire immediate capital. <p>An interesting observation in the above finding is that there is a huge difference in the amounts of the indicators after the second one. This indicates that the first two indicators might be the most severe categories in which the countries owe their debts.</p>"
   ]
  },
  {
   "cell_type": "markdown",
   "metadata": {
    "dc": {
     "key": "52"
    },
    "deletable": false,
    "editable": false,
    "run_control": {
     "frozen": true
    },
    "tags": [
     "context"
    ]
   },
   "source": [
    "## 7. The highest amount of principal repayments\n",
    "\n",
    "<p>We can investigate a bit more to find out which country owes the highest amount of debt in the category of long term debts (<code>DT.AMT.DLXF.CD</code>). Since not all the countries suffer from the same kind of economic disturbances, this finding will allow us to understand that particular country's economic condition a bit more specifically. </p>"
   ]
  },
  {
   "cell_type": "code",
   "execution_count": 26,
   "metadata": {
    "dc": {
     "key": "52"
    },
    "tags": [
     "sample_code"
    ]
   },
   "outputs": [
    {
     "name": "stdout",
     "output_type": "stream",
     "text": [
      " * postgresql:///international_debt\n",
      "1 rows affected.\n"
     ]
    },
    {
     "data": {
      "text/html": [
       "<table>\n",
       "    <tr>\n",
       "        <th>country_name</th>\n",
       "        <th>indicator_name</th>\n",
       "    </tr>\n",
       "    <tr>\n",
       "        <td>China</td>\n",
       "        <td>Principal repayments on external debt, long-term (AMT, current US$)</td>\n",
       "    </tr>\n",
       "</table>"
      ],
      "text/plain": [
       "[('China', 'Principal repayments on external debt, long-term (AMT, current US$)')]"
      ]
     },
     "execution_count": 26,
     "metadata": {},
     "output_type": "execute_result"
    }
   ],
   "source": [
    "%%sql\n",
    "SELECT \n",
    "    country_name, \n",
    "    indicator_name\n",
    "FROM international_debt\n",
    "WHERE debt = (SELECT \n",
    "                 MAX(debt)\n",
    "             FROM international_debt\n",
    "             WHERE indicator_code = 'DT.AMT.DLXF.CD');"
   ]
  },
  {
   "cell_type": "markdown",
   "metadata": {},
   "source": [
    "<p>China has the highest amount of debt in the long-term debt (<code>DT.AMT.DLXF.CD</code>) category. This is verified by <a href=\"https://data.worldbank.org/indicator/DT.AMT.DLXF.CD?end=2018&most_recent_value_desc=true\">The World Bank</a>."
   ]
  },
  {
   "cell_type": "markdown",
   "metadata": {
    "dc": {
     "key": "60"
    },
    "deletable": false,
    "editable": false,
    "run_control": {
     "frozen": true
    },
    "tags": [
     "context"
    ]
   },
   "source": [
    "## 8. The most common debt indicator\n",
    "<p>Long-term debt is the topmost category when it comes to the average amount of debt. But is it the most common indicator in which the countries owe their debt? Let's find that out. </p>"
   ]
  },
  {
   "cell_type": "code",
   "execution_count": 4,
   "metadata": {
    "dc": {
     "key": "60"
    },
    "tags": [
     "sample_code"
    ]
   },
   "outputs": [
    {
     "name": "stdout",
     "output_type": "stream",
     "text": [
      " * postgresql:///international_debt\n",
      "20 rows affected.\n"
     ]
    },
    {
     "data": {
      "text/html": [
       "<table>\n",
       "    <tr>\n",
       "        <th>indicator_code</th>\n",
       "        <th>indicator_count</th>\n",
       "    </tr>\n",
       "    <tr>\n",
       "        <td>DT.INT.OFFT.CD</td>\n",
       "        <td>124</td>\n",
       "    </tr>\n",
       "    <tr>\n",
       "        <td>DT.INT.MLAT.CD</td>\n",
       "        <td>124</td>\n",
       "    </tr>\n",
       "    <tr>\n",
       "        <td>DT.INT.DLXF.CD</td>\n",
       "        <td>124</td>\n",
       "    </tr>\n",
       "    <tr>\n",
       "        <td>DT.AMT.OFFT.CD</td>\n",
       "        <td>124</td>\n",
       "    </tr>\n",
       "    <tr>\n",
       "        <td>DT.AMT.MLAT.CD</td>\n",
       "        <td>124</td>\n",
       "    </tr>\n",
       "    <tr>\n",
       "        <td>DT.AMT.DLXF.CD</td>\n",
       "        <td>124</td>\n",
       "    </tr>\n",
       "    <tr>\n",
       "        <td>DT.DIS.DLXF.CD</td>\n",
       "        <td>123</td>\n",
       "    </tr>\n",
       "    <tr>\n",
       "        <td>DT.INT.BLAT.CD</td>\n",
       "        <td>122</td>\n",
       "    </tr>\n",
       "    <tr>\n",
       "        <td>DT.DIS.OFFT.CD</td>\n",
       "        <td>122</td>\n",
       "    </tr>\n",
       "    <tr>\n",
       "        <td>DT.AMT.BLAT.CD</td>\n",
       "        <td>122</td>\n",
       "    </tr>\n",
       "    <tr>\n",
       "        <td>DT.DIS.MLAT.CD</td>\n",
       "        <td>120</td>\n",
       "    </tr>\n",
       "    <tr>\n",
       "        <td>DT.DIS.BLAT.CD</td>\n",
       "        <td>113</td>\n",
       "    </tr>\n",
       "    <tr>\n",
       "        <td>DT.INT.PRVT.CD</td>\n",
       "        <td>98</td>\n",
       "    </tr>\n",
       "    <tr>\n",
       "        <td>DT.AMT.PRVT.CD</td>\n",
       "        <td>98</td>\n",
       "    </tr>\n",
       "    <tr>\n",
       "        <td>DT.INT.PCBK.CD</td>\n",
       "        <td>84</td>\n",
       "    </tr>\n",
       "    <tr>\n",
       "        <td>DT.AMT.PCBK.CD</td>\n",
       "        <td>84</td>\n",
       "    </tr>\n",
       "    <tr>\n",
       "        <td>DT.INT.DPNG.CD</td>\n",
       "        <td>79</td>\n",
       "    </tr>\n",
       "    <tr>\n",
       "        <td>DT.AMT.DPNG.CD</td>\n",
       "        <td>79</td>\n",
       "    </tr>\n",
       "    <tr>\n",
       "        <td>DT.INT.PBND.CD</td>\n",
       "        <td>69</td>\n",
       "    </tr>\n",
       "    <tr>\n",
       "        <td>DT.AMT.PBND.CD</td>\n",
       "        <td>69</td>\n",
       "    </tr>\n",
       "</table>"
      ],
      "text/plain": [
       "[('DT.INT.OFFT.CD', 124),\n",
       " ('DT.INT.MLAT.CD', 124),\n",
       " ('DT.INT.DLXF.CD', 124),\n",
       " ('DT.AMT.OFFT.CD', 124),\n",
       " ('DT.AMT.MLAT.CD', 124),\n",
       " ('DT.AMT.DLXF.CD', 124),\n",
       " ('DT.DIS.DLXF.CD', 123),\n",
       " ('DT.INT.BLAT.CD', 122),\n",
       " ('DT.DIS.OFFT.CD', 122),\n",
       " ('DT.AMT.BLAT.CD', 122),\n",
       " ('DT.DIS.MLAT.CD', 120),\n",
       " ('DT.DIS.BLAT.CD', 113),\n",
       " ('DT.INT.PRVT.CD', 98),\n",
       " ('DT.AMT.PRVT.CD', 98),\n",
       " ('DT.INT.PCBK.CD', 84),\n",
       " ('DT.AMT.PCBK.CD', 84),\n",
       " ('DT.INT.DPNG.CD', 79),\n",
       " ('DT.AMT.DPNG.CD', 79),\n",
       " ('DT.INT.PBND.CD', 69),\n",
       " ('DT.AMT.PBND.CD', 69)]"
      ]
     },
     "execution_count": 4,
     "metadata": {},
     "output_type": "execute_result"
    }
   ],
   "source": [
    "%%sql\n",
    "SELECT\n",
    "    indicator_code,\n",
    "    COUNT(indicator_code) AS indicator_count\n",
    "FROM \n",
    "    international_debt\n",
    "GROUP BY\n",
    "    indicator_code\n",
    "ORDER BY\n",
    "    indicator_count DESC, indicator_code DESC\n",
    "LIMIT\n",
    "    20;\n"
   ]
  },
  {
   "cell_type": "markdown",
   "metadata": {},
   "source": [
    "<p>There are a total of six debt indicators in which all the countries listed in our dataset have taken debt. The indicator <code>DT.AMT.DLXF.CD</code> is also there in the list. So, this gives us a clue that all these countries are suffering from a common economic issue."
   ]
  },
  {
   "cell_type": "markdown",
   "metadata": {
    "dc": {
     "key": "68"
    },
    "deletable": false,
    "editable": false,
    "run_control": {
     "frozen": true
    },
    "tags": [
     "context"
    ]
   },
   "source": [
    "## 9. Other viable debt issues and conclusion\n",
    "<p>Next, let's find out the maximum amount of debt that each country has. With this, we will be in a position to identify the other plausible economic issues a country might be going through.</p>"
   ]
  },
  {
   "cell_type": "code",
   "execution_count": 5,
   "metadata": {
    "dc": {
     "key": "68"
    },
    "tags": [
     "sample_code"
    ]
   },
   "outputs": [
    {
     "name": "stdout",
     "output_type": "stream",
     "text": [
      " * postgresql:///international_debt\n",
      "10 rows affected.\n"
     ]
    },
    {
     "data": {
      "text/html": [
       "<table>\n",
       "    <tr>\n",
       "        <th>country_name</th>\n",
       "        <th>maximum_debt</th>\n",
       "    </tr>\n",
       "    <tr>\n",
       "        <td>China</td>\n",
       "        <td>96218620835.699996948</td>\n",
       "    </tr>\n",
       "    <tr>\n",
       "        <td>Brazil</td>\n",
       "        <td>90041840304.100006104</td>\n",
       "    </tr>\n",
       "    <tr>\n",
       "        <td>Russian Federation</td>\n",
       "        <td>66589761833.5</td>\n",
       "    </tr>\n",
       "    <tr>\n",
       "        <td>Turkey</td>\n",
       "        <td>51555031005.800003052</td>\n",
       "    </tr>\n",
       "    <tr>\n",
       "        <td>South Asia</td>\n",
       "        <td>48756295898.199996948</td>\n",
       "    </tr>\n",
       "    <tr>\n",
       "        <td>Least developed countries: UN classification</td>\n",
       "        <td>40160766261.599998474</td>\n",
       "    </tr>\n",
       "    <tr>\n",
       "        <td>IDA only</td>\n",
       "        <td>34531188113.199996948</td>\n",
       "    </tr>\n",
       "    <tr>\n",
       "        <td>India</td>\n",
       "        <td>31923507000.799999237</td>\n",
       "    </tr>\n",
       "    <tr>\n",
       "        <td>Indonesia</td>\n",
       "        <td>30916112653.799999237</td>\n",
       "    </tr>\n",
       "    <tr>\n",
       "        <td>Kazakhstan</td>\n",
       "        <td>27482093686.400001526</td>\n",
       "    </tr>\n",
       "</table>"
      ],
      "text/plain": [
       "[('China', Decimal('96218620835.699996948')),\n",
       " ('Brazil', Decimal('90041840304.100006104')),\n",
       " ('Russian Federation', Decimal('66589761833.5')),\n",
       " ('Turkey', Decimal('51555031005.800003052')),\n",
       " ('South Asia', Decimal('48756295898.199996948')),\n",
       " ('Least developed countries: UN classification', Decimal('40160766261.599998474')),\n",
       " ('IDA only', Decimal('34531188113.199996948')),\n",
       " ('India', Decimal('31923507000.799999237')),\n",
       " ('Indonesia', Decimal('30916112653.799999237')),\n",
       " ('Kazakhstan', Decimal('27482093686.400001526'))]"
      ]
     },
     "execution_count": 5,
     "metadata": {},
     "output_type": "execute_result"
    }
   ],
   "source": [
    "%%sql\n",
    "SELECT\n",
    "    country_name,\n",
    "    MAX(debt) AS maximum_debt\n",
    "FROM \n",
    "    international_debt\n",
    "GROUP BY\n",
    "    country_name\n",
    "ORDER BY\n",
    "    maximum_debt DESC\n",
    "LIMIT 10;\n"
   ]
  },
  {
   "cell_type": "markdown",
   "metadata": {},
   "source": [
    "<p>In this notebook, we took a look at debt owed by countries across the globe. We extracted a few summary statistics from the data and unraveled some interesting facts and figures. We also validated our findings to make sure the investigations are correct.</p>"
   ]
  },
  {
   "cell_type": "markdown",
   "metadata": {},
   "source": [
    "<p> Now we can answer the questions listed at the beginning of the notebook</p>\n",
    "<ul>\n",
    "<li>What is the total amount of debt that is owed by the countries listed in the dataset?</li>\n",
    "<p>More than <em>3 million <strong>million</strong></em> USD</p>\n",
    "<li>Which country owes the maximum amount of debt and what does that amount look like?</li>\n",
    "<p><strong>China</strong> owes the maximum amount of debt and the amount is <strong>285793494734.20</strong></p>\n",
    "<li>What is the average amount of debt owed by countries across different debt indicators?</li>\n",
    "<p>Refer to result in Section 6 of the notebook</p>\n",
    "</ul>"
   ]
  }
 ],
 "metadata": {
  "kernelspec": {
   "display_name": "Python 3 (ipykernel)",
   "language": "python",
   "name": "python3"
  },
  "language_info": {
   "codemirror_mode": {
    "name": "ipython",
    "version": 3
   },
   "file_extension": ".py",
   "mimetype": "text/x-python",
   "name": "python",
   "nbconvert_exporter": "python",
   "pygments_lexer": "ipython3",
   "version": "3.10.1"
  },
  "vscode": {
   "interpreter": {
    "hash": "5c7b89af1651d0b8571dde13640ecdccf7d5a6204171d6ab33e7c296e100e08a"
   }
  }
 },
 "nbformat": 4,
 "nbformat_minor": 2
}
